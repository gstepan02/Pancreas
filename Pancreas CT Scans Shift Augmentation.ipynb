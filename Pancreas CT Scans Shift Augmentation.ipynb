{
  "cells": [
    {
      "cell_type": "code",
      "execution_count": 6,
      "metadata": {
        "id": "xFGEbjY580ni"
      },
      "outputs": [],
      "source": [
        "import os\n",
        "import nibabel as nib\n",
        "import numpy as np\n",
        "import matplotlib.pyplot as plt\n",
        "import scipy.ndimage\n",
        "import scipy.stats as st\n",
        "from scipy.stats import norm"
      ]
    },
    {
      "cell_type": "code",
      "execution_count": 2,
      "metadata": {
        "id": "_OEznWqmiqAU"
      },
      "outputs": [
        {
          "name": "stdout",
          "output_type": "stream",
          "text": [
            "ct_paths len: 281\n",
            "label_paths len: 281\n"
          ]
        }
      ],
      "source": [
        "folder = 'C:/'\n",
        "imagesTr = folder + 'Task07_Pancreas/imagesTr/'\n",
        "labelsTr = folder + 'Task07_Pancreas/labelsTr/'\n",
        "def get_file_paths(data):\n",
        "    file_paths = []\n",
        "    for root, directories, files in os.walk(data):\n",
        "        for filename in files:\n",
        "            file_paths.append(os.path.join(root, filename))\n",
        "    return file_paths\n",
        "ct_paths = sorted(get_file_paths(imagesTr))\n",
        "label_paths = sorted(get_file_paths(labelsTr))\n",
        "print(f'ct_paths len: {len(ct_paths)}')\n",
        "print(f'label_paths len: {len(label_paths)}')\n",
        "# for file_path in  label_paths:\n",
        "#     print(file_path)\n",
        "for i in range(len(ct_paths)):\n",
        "    if ct_paths[i][-20:-7] != label_paths[i][-20:-7]:\n",
        "        print(f'Ass in {ct_paths[i][-20:-7]}')"
      ]
    },
    {
      "cell_type": "code",
      "execution_count": 5,
      "metadata": {},
      "outputs": [],
      "source": [
        "for n in range (len(ct_paths)):\n",
        "    ct_data = nib.load(ct_paths[n])\n",
        "    label_data = nib.load(label_paths[n])\n",
        "\n",
        "    ct_data_np = ct_data.get_fdata()\n",
        "    label_data_np = label_data.get_fdata()\n",
        "\n",
        "    # print(f'file: {ct_paths[n][-20:]}')\n",
        "    # print(f'ct shape: {ct_data_np.shape}')\n",
        "    # print(f'label shape: {label_data_np.shape}')\n",
        "\n",
        "    idx = []\n",
        "\n",
        "    for i in range (ct_data_np.shape[2]):\n",
        "        ar = ct_data_np[:,:,i]\n",
        "        ar_lbl = label_data_np[:,:,i]\n",
        "\n",
        "        if np.sum(ar_lbl) == 0:\n",
        "            continue\n",
        "        \n",
        "        idx.append(i)\n",
        "\n",
        "    # print(idx)\n",
        "\n",
        "    for i in range(0, ct_data_np.shape[2], 2):\n",
        "        ar = ct_data_np[:,:,i:i+64]\n",
        "        ar_lbl = label_data_np[:,:,i:i+64]\n",
        "        if ar_lbl.shape[2] != 64:\n",
        "            continue\n",
        "        if i <= min(idx) and i+64 >= max(idx):\n",
        "            ct_img = nib.Nifti1Image(ar, ct_data.affine)\n",
        "            label_img = nib.Nifti1Image(ar_lbl, label_data.affine)\n",
        "            new_ct_path = 'C:/Task07_Pancreas/Augmentation/imagesTr' + ct_paths[n][-20:-7]s + '_' + '{:03d}'.format(i) + '.nii.gz'\n",
        "            new_label_path = 'C:/Task07_Pancreas/Augmentation/labelsTr' + label_paths[n][-20:-7] + '_' + '{:03d}'.format(i) + '.nii.gz'\n",
        "            nib.save(ct_img, new_ct_path)\n",
        "            nib.save(label_img, new_label_path)\n",
        "            # print(f'File {new_ct_path[-24:]} saved')"
      ]
    },
    {
      "cell_type": "code",
      "execution_count": null,
      "metadata": {
        "colab": {
          "base_uri": "https://localhost:8080/",
          "height": 646
        },
        "id": "QxfBaW-Gdpya",
        "outputId": "dc5f4933-76f6-42c6-b826-f6520b74d9d5"
      },
      "outputs": [],
      "source": [
        "ct_data = nib.load(new_ct_path)\n",
        "label_data = nib.load(new_label_path)\n",
        "\n",
        "ct_data = ct_data.get_fdata()\n",
        "label_data = label_data.get_fdata()\n",
        "\n",
        "print(f'New: {ct_data.shape}')\n",
        "print(f'New: {label_data.shape}')\n",
        "\n",
        "for i in range (ct_data.shape[2]):\n",
        "    ar = ct_data[:,:,i]\n",
        "    ar_lbl = label_data[:,:,i]\n",
        "\n",
        "    fig = plt.figure(figsize=(18,15))\n",
        "\n",
        "    plt.subplot(1,2,1)\n",
        "    plt.imshow(ar, cmap='gray')\n",
        "\n",
        "    plt.subplot(1,2,2)\n",
        "    plt.imshow(ar_lbl)\n",
        "\n",
        "    plt.show()"
      ]
    },
    {
      "cell_type": "code",
      "execution_count": 5,
      "metadata": {},
      "outputs": [
        {
          "name": "stdout",
          "output_type": "stream",
          "text": [
            "281\n"
          ]
        }
      ],
      "source": [
        "min = []\n",
        "max = []\n",
        "Z = []\n",
        "print(len(ct_paths))\n",
        "for n in range (len(ct_paths)):\n",
        "    ct_data = nib.load(ct_paths[n])\n",
        "    label_data = nib.load(label_paths[n])\n",
        "\n",
        "    ct_data_np = ct_data.get_fdata()\n",
        "    label_data_np = label_data.get_fdata()\n",
        "\n",
        "    Z.append(ct_data_np.shape[2])\n",
        "    min.append(np.min(ct_data_np))\n",
        "    max.append(np.max(ct_data_np))"
      ]
    },
    {
      "cell_type": "code",
      "execution_count": 7,
      "metadata": {},
      "outputs": [
        {
          "name": "stdout",
          "output_type": "stream",
          "text": [
            "(-1036.4697508896797, 12.453682623544724)\n",
            "(2088.2491103202847, 85.55731956391388)\n",
            "(95.08540925266904, 5.6572132968101005)\n"
          ]
        }
      ],
      "source": [
        "def confidence_interval(data, confidence=0.99):\n",
        "    n = len(data)\n",
        "    mean = np.mean(data)\n",
        "    std_dev = np.std(data)\n",
        "    z_score = norm.ppf((1 + confidence) / 2)\n",
        "    margin_of_error = z_score * (std_dev / np.sqrt(n))\n",
        "    return mean, margin_of_error\n",
        "\n",
        "print(confidence_interval(min))\n",
        "print(confidence_interval(max))\n",
        "print(confidence_interval(Z))"
      ]
    },
    {
      "cell_type": "code",
      "execution_count": 8,
      "metadata": {},
      "outputs": [
        {
          "name": "stdout",
          "output_type": "stream",
          "text": [
            "[-1024.0, -1024.0, -1024.0, -1024.0, -1024.0, -1024.0, -1024.0, -1024.0, -1024.0, -1024.0, -1024.0, -1024.0, -1024.0, -1024.0, -1024.0, -1024.0, -1024.0, -1024.0, -1024.0, -1024.0, -1024.0, -1024.0, -1024.0, -1024.0, -1024.0, -1024.0, -1024.0, -1024.0, -1024.0, -1024.0, -1024.0, -1024.0, -1024.0, -1024.0, -1024.0, -1024.0, -1024.0, -1024.0, -1024.0, -1024.0, -1024.0, -1024.0, -1024.0, -1024.0, -1024.0, -1024.0, -1024.0, -1024.0, -1024.0, -1024.0, -1024.0, -1024.0, -1024.0, -1024.0, -1024.0, -1024.0, -1024.0, -1024.0, -1024.0, -1024.0, -1024.0, -1024.0, -1024.0, -1024.0, -1024.0, -1024.0, -1024.0, -1024.0, -1024.0, -1024.0, -1024.0, -1024.0, -1024.0, -1024.0, -1024.0, -1024.0, -1024.0, -1024.0, -1024.0, -1024.0, -1024.0, -1024.0, -1024.0, -1024.0, -1024.0, -1024.0, -1024.0, -1024.0, -1024.0, -1024.0, -1024.0, -1024.0, -1024.0, -1184.0, -1024.0, -1024.0, -1024.0, -1024.0, -1024.0, -1024.0, -1024.0, -1024.0, -1024.0, -1024.0, -1024.0, -1024.0, -1024.0, -1024.0, -1024.0, -1024.0, -1024.0, -1024.0, -1024.0, -1024.0, -1024.0, -1024.0, -1024.0, -1024.0, -1024.0, -1024.0, -1024.0, -1024.0, -1268.0, -1024.0, -1024.0, -1024.0, -1024.0, -1024.0, -1024.0, -1024.0, -1024.0, -1024.0, -1024.0, -1024.0, -1024.0, -1024.0, -1024.0, -1024.0, -1024.0, -1024.0, -1024.0, -1024.0, -1024.0, -1024.0, -1024.0, -1024.0, -1024.0, -1024.0, -1024.0, -1024.0, -1024.0, -1024.0, -1024.0, -1024.0, -1024.0, -1024.0, -1024.0, -1024.0, -1024.0, -1024.0, -1024.0, -1024.0, -1024.0, -1024.0, -1024.0, -1024.0, -1024.0, -1024.0, -1024.0, -1024.0, -1024.0, -1024.0, -1024.0, -1024.0, -1024.0, -1024.0, -1024.0, -1024.0, -1024.0, -1024.0, -1024.0, -1024.0, -1024.0, -1024.0, -1024.0, -1024.0, -1024.0, -1024.0, -1024.0, -1024.0, -1024.0, -1024.0, -1024.0, -1024.0, -1024.0, -1024.0, -1024.0, -1024.0, -1024.0, -1024.0, -1024.0, -1024.0, -1024.0, -1024.0, -1024.0, -1024.0, -1024.0, -1024.0, -1024.0, -1024.0, -1024.0, -1024.0, -1024.0, -1024.0, -1024.0, -1024.0, -1024.0, -1024.0, -1024.0, -1024.0, -1024.0, -1024.0, -1024.0, -1024.0, -1024.0, -1024.0, -1024.0, -1024.0, -1024.0, -1024.0, -1024.0, -1024.0, -1024.0, -1024.0, -1024.0, -1024.0, -1024.0, -1024.0, -1024.0, -1024.0, -1024.0, -1024.0, -1024.0, -1024.0, -1024.0, -1024.0, -1024.0, -1024.0, -1024.0, -1024.0, -1024.0, -1024.0, -1024.0, -1024.0, -1024.0, -1052.0, -1024.0, -1024.0, -1024.0, -1024.0, -1024.0, -1024.0, -1024.0, -1024.0, -1024.0, -2048.0, -2048.0, -1024.0, -1024.0, -1024.0, -2048.0, -1024.0, -1024.0, -1024.0, -1024.0, -1024.0, -1024.0, -1024.0, -1024.0, -1024.0, -1024.0]\n"
          ]
        }
      ],
      "source": [
        "print(min)"
      ]
    }
  ],
  "metadata": {
    "colab": {
      "provenance": []
    },
    "kernelspec": {
      "display_name": "Python 3",
      "name": "python3"
    },
    "language_info": {
      "codemirror_mode": {
        "name": "ipython",
        "version": 3
      },
      "file_extension": ".py",
      "mimetype": "text/x-python",
      "name": "python",
      "nbconvert_exporter": "python",
      "pygments_lexer": "ipython3",
      "version": "3.10.11"
    }
  },
  "nbformat": 4,
  "nbformat_minor": 0
}
